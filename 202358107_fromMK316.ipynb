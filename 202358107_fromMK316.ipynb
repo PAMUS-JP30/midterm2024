{
  "nbformat": 4,
  "nbformat_minor": 0,
  "metadata": {
    "colab": {
      "provenance": [],
      "include_colab_link": true
    },
    "kernelspec": {
      "name": "python3",
      "display_name": "Python 3"
    },
    "language_info": {
      "name": "python"
    }
  },
  "cells": [
    {
      "cell_type": "markdown",
      "metadata": {
        "id": "view-in-github",
        "colab_type": "text"
      },
      "source": [
        "<a href=\"https://colab.research.google.com/github/PAMUS-JP30/midterm2024/blob/main/202358107_fromMK316.ipynb\" target=\"_parent\"><img src=\"https://colab.research.google.com/assets/colab-badge.svg\" alt=\"Open In Colab\"/></a>"
      ]
    },
    {
      "cell_type": "markdown",
      "source": [
        "# 🌀Midterm 2024: Joonhyung Park (202458107) <= 😍 This is heading 1\n",
        "🌀Midterm 2024: Joonhyung Park (202458107)"
      ],
      "metadata": {
        "id": "3hfq2VtYxjZ_"
      }
    },
    {
      "cell_type": "markdown",
      "source": [
        "##Variable Question (😍 Yes, this works too. Python is very flexible.)\n",
        "\n",
        "=> To run this way, give a description how to type the information, something like this:\n",
        "\n",
        "```\n",
        "x, y, z = input(\"Type your name, born in, hometown: \").split(\", \")\n",
        "```"
      ],
      "metadata": {
        "id": "AjKL_uw5yjCu"
      }
    },
    {
      "cell_type": "code",
      "source": [
        "# 'Mary, 1998, Ohio; and John, 1999, Boston.'\n",
        "x, y, z = input().split(\", \")\n",
        "\n",
        "print(f\"Hello, my name is {x}. I was born in {y}, and I'm from {z}. Nice to meet you.\")"
      ],
      "metadata": {
        "colab": {
          "base_uri": "https://localhost:8080/"
        },
        "id": "iQWFYAOD2XZo",
        "outputId": "ae663bcf-32e8-4f78-8ae8-05a6f38da22d"
      },
      "execution_count": 1,
      "outputs": [
        {
          "output_type": "stream",
          "name": "stdout",
          "text": [
            "Mary, 1998, Ohio\n",
            "Hello, my name is Mary. I was born in 1998, and I'm from Ohio. Nice to meet you.\n"
          ]
        }
      ]
    },
    {
      "cell_type": "markdown",
      "source": [
        "😍 Or you can use the variables separately, as shown below"
      ],
      "metadata": {
        "id": "zTo3XuCOP3cQ"
      }
    },
    {
      "cell_type": "code",
      "source": [
        "# 'Mary, 1998, Ohio; and John, 1999, Boston.'\n",
        "x = input(\"Name: \")\n",
        "y = input(\"Born in: \")\n",
        "z = input(\"Hometown: \")\n",
        "\n",
        "print(f\"Hello, my name is {x}. I was born in {y}, and I'm from {z}. Nice to meet you.\")"
      ],
      "metadata": {
        "id": "pDtp7seeP-Pv",
        "outputId": "f200ea2a-f8c2-4e86-a84e-436415a0ac1e",
        "colab": {
          "base_uri": "https://localhost:8080/"
        }
      },
      "execution_count": 2,
      "outputs": [
        {
          "output_type": "stream",
          "name": "stdout",
          "text": [
            "Name: Mary\n",
            "Born in: 1998\n",
            "Hometown: Ohio\n",
            "Hello, my name is Mary. I was born in 1998, and I'm from Ohio. Nice to meet you.\n"
          ]
        }
      ]
    },
    {
      "cell_type": "markdown",
      "source": [
        "##Index Question (😍 Very good!)"
      ],
      "metadata": {
        "id": "_atEYOF-2E50"
      }
    },
    {
      "cell_type": "code",
      "source": [
        "# Dropdown\n",
        "\n",
        "cardinal_number = \"2\" #@param [\"1\",\"2\",\"3\",\"4\"]\n",
        "\n",
        "# Add one line of code below\n",
        "cardinal_number = int(cardinal_number) - 1  # Adjusting index to match list indexing\n",
        "\n",
        "# Ordinal expression as a list\n",
        "\n",
        "words = [\"First\", \"Second\", \"Third\", \"Fourth\"]\n",
        "\n",
        "print(\"The ordinal expression:\", words[cardinal_number])"
      ],
      "metadata": {
        "colab": {
          "base_uri": "https://localhost:8080/"
        },
        "id": "v-_1zDKU62aE",
        "outputId": "73f92ea9-307a-402d-c151-29ea6976a8b3"
      },
      "execution_count": 3,
      "outputs": [
        {
          "output_type": "stream",
          "name": "stdout",
          "text": [
            "The ordinal expression: Second\n"
          ]
        }
      ]
    },
    {
      "cell_type": "markdown",
      "source": [
        "## Name Question (😍 Good!)\n",
        "\n",
        "=> And try input function so that the code can print any name as the user types.\n"
      ],
      "metadata": {
        "id": "ZVpY6mOi7GFa"
      }
    },
    {
      "cell_type": "code",
      "source": [
        "# Name question\n",
        "x = \"My name is\"\n",
        "y = \"Joonhyung Park\"\n",
        "\n",
        "print(f\"{x} {y}.\")"
      ],
      "metadata": {
        "colab": {
          "base_uri": "https://localhost:8080/"
        },
        "id": "AmYjBjjz7Nav",
        "outputId": "5c299fba-c740-447b-e433-4eacdb6a0977"
      },
      "execution_count": null,
      "outputs": [
        {
          "output_type": "stream",
          "name": "stdout",
          "text": [
            "My name is Joonhyung Park.\n"
          ]
        }
      ]
    },
    {
      "cell_type": "code",
      "source": [
        "# Name question\n",
        "x = \"My name is\"\n",
        "y = input()                  # No need this: \"Joonhyung Park\"\n",
        "\n",
        "print(f\"{x} {y}.\")"
      ],
      "metadata": {
        "id": "LgrPJ_EUQaA2"
      },
      "execution_count": null,
      "outputs": []
    },
    {
      "cell_type": "markdown",
      "source": [
        "##Dictionary Question (😍 Good!)"
      ],
      "metadata": {
        "id": "x8iZZqCd8dU2"
      }
    },
    {
      "cell_type": "code",
      "source": [
        "# Define the dictionary containing student names and grades\n",
        "grades = {\"Joon\": 85, \"Bob\": 80, \"Dayoung\": 90}\n",
        "\n",
        "# Print Bob's grade\n",
        "print(grades[\"Bob\"])"
      ],
      "metadata": {
        "colab": {
          "base_uri": "https://localhost:8080/"
        },
        "id": "zBJSZzCZ8lPi",
        "outputId": "8975e419-f18c-430a-cc24-7febe0528333"
      },
      "execution_count": 4,
      "outputs": [
        {
          "output_type": "stream",
          "name": "stdout",
          "text": [
            "80\n"
          ]
        }
      ]
    },
    {
      "cell_type": "markdown",
      "source": [
        "##GTTS Question(😍 Good!)\n",
        "\n",
        "=> 😍 But let's separate installation code from the rest. This is because you don't want to install everytime you run this code to get an audio."
      ],
      "metadata": {
        "id": "WlcfOhPS90NZ"
      }
    },
    {
      "cell_type": "code",
      "source": [
        "# First, install the gTTS library if you haven't already\n",
        "!pip install gTTS\n",
        "\n",
        "# Import the gTTS library\n",
        "from gtts import gTTS\n",
        "\n",
        "# Import IPython display module\n",
        "from IPython.display import Audio, display\n",
        "\n",
        "# Get text input from the user\n",
        "text = input(\"Enter the text to be converted to speech: \")\n",
        "\n",
        "# Language in which you want to convert\n",
        "language = 'en'\n",
        "\n",
        "# Pass the text and language to the gTTS module\n",
        "speech = gTTS(text=text, lang=language, slow=False)\n",
        "\n",
        "# Save the converted audio file\n",
        "speech.save(\"output.mp3\")\n",
        "\n",
        "# Display the audio directly in the notebook\n",
        "display(Audio(\"output.mp3\", autoplay=True))"
      ],
      "metadata": {
        "colab": {
          "base_uri": "https://localhost:8080/",
          "height": 276
        },
        "id": "MSQ_wGDD9-rl",
        "outputId": "e3662f5c-d202-4633-b2f2-81c56513f85e"
      },
      "execution_count": 5,
      "outputs": [
        {
          "name": "stdout",
          "output_type": "stream",
          "text": [
            "Collecting gTTS\n",
            "  Downloading gTTS-2.5.1-py3-none-any.whl (29 kB)\n",
            "Requirement already satisfied: requests<3,>=2.27 in /usr/local/lib/python3.10/dist-packages (from gTTS) (2.31.0)\n",
            "Requirement already satisfied: click<8.2,>=7.1 in /usr/local/lib/python3.10/dist-packages (from gTTS) (8.1.7)\n",
            "Requirement already satisfied: charset-normalizer<4,>=2 in /usr/local/lib/python3.10/dist-packages (from requests<3,>=2.27->gTTS) (3.3.2)\n",
            "Requirement already satisfied: idna<4,>=2.5 in /usr/local/lib/python3.10/dist-packages (from requests<3,>=2.27->gTTS) (3.7)\n",
            "Requirement already satisfied: urllib3<3,>=1.21.1 in /usr/local/lib/python3.10/dist-packages (from requests<3,>=2.27->gTTS) (2.0.7)\n",
            "Requirement already satisfied: certifi>=2017.4.17 in /usr/local/lib/python3.10/dist-packages (from requests<3,>=2.27->gTTS) (2024.2.2)\n",
            "Installing collected packages: gTTS\n",
            "Successfully installed gTTS-2.5.1\n",
            "Enter the text to be converted to speech: This works very well.\n"
          ]
        },
        {
          "output_type": "display_data",
          "data": {
            "text/plain": [
              "<IPython.lib.display.Audio object>"
            ],
            "text/html": [
              "\n",
              "                <audio  controls=\"controls\" autoplay=\"autoplay\">\n",
              "                    <source src=\"data:audio/mpeg;base64,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\" type=\"audio/mpeg\" />\n",
              "                    Your browser does not support the audio element.\n",
              "                </audio>\n",
              "              "
            ]
          },
          "metadata": {}
        }
      ]
    },
    {
      "cell_type": "markdown",
      "source": [
        "##Function Question (😍 Good)"
      ],
      "metadata": {
        "id": "nyBx1Bq6_T4n"
      }
    },
    {
      "cell_type": "code",
      "source": [
        "# Define a function for division\n",
        "def divide(x, y):\n",
        "    return x / y\n",
        "\n",
        "# Test the function\n",
        "result = divide(20, 4)\n",
        "print(\"The result of division is:\", result)"
      ],
      "metadata": {
        "colab": {
          "base_uri": "https://localhost:8080/"
        },
        "id": "Ngkc-XQB_WHb",
        "outputId": "f9a76b2c-0fd3-4829-8254-aed255c15fa2"
      },
      "execution_count": 6,
      "outputs": [
        {
          "output_type": "stream",
          "name": "stdout",
          "text": [
            "The result of division is: 5.0\n"
          ]
        }
      ]
    },
    {
      "cell_type": "markdown",
      "source": [
        "##Audio Question (😍 Good!)"
      ],
      "metadata": {
        "id": "4U69JjlaAZeT"
      }
    },
    {
      "cell_type": "code",
      "source": [
        "!pip install gradio gtts\n"
      ],
      "metadata": {
        "colab": {
          "base_uri": "https://localhost:8080/"
        },
        "id": "O0scyMQdAc3W",
        "outputId": "2b77a3d5-3c41-4f5e-eabc-7fc172295cda"
      },
      "execution_count": 7,
      "outputs": [
        {
          "output_type": "stream",
          "name": "stdout",
          "text": [
            "Collecting gradio\n",
            "  Downloading gradio-4.28.3-py3-none-any.whl (12.2 MB)\n",
            "\u001b[2K     \u001b[90m━━━━━━━━━━━━━━━━━━━━━━━━━━━━━━━━━━━━━━━━\u001b[0m \u001b[32m12.2/12.2 MB\u001b[0m \u001b[31m49.3 MB/s\u001b[0m eta \u001b[36m0:00:00\u001b[0m\n",
            "\u001b[?25hRequirement already satisfied: gtts in /usr/local/lib/python3.10/dist-packages (2.5.1)\n",
            "Collecting aiofiles<24.0,>=22.0 (from gradio)\n",
            "  Downloading aiofiles-23.2.1-py3-none-any.whl (15 kB)\n",
            "Requirement already satisfied: altair<6.0,>=4.2.0 in /usr/local/lib/python3.10/dist-packages (from gradio) (4.2.2)\n",
            "Collecting fastapi (from gradio)\n",
            "  Downloading fastapi-0.110.3-py3-none-any.whl (91 kB)\n",
            "\u001b[2K     \u001b[90m━━━━━━━━━━━━━━━━━━━━━━━━━━━━━━━━━━━━━━━━\u001b[0m \u001b[32m91.8/91.8 kB\u001b[0m \u001b[31m11.6 MB/s\u001b[0m eta \u001b[36m0:00:00\u001b[0m\n",
            "\u001b[?25hCollecting ffmpy (from gradio)\n",
            "  Downloading ffmpy-0.3.2.tar.gz (5.5 kB)\n",
            "  Preparing metadata (setup.py) ... \u001b[?25l\u001b[?25hdone\n",
            "Collecting gradio-client==0.16.0 (from gradio)\n",
            "  Downloading gradio_client-0.16.0-py3-none-any.whl (314 kB)\n",
            "\u001b[2K     \u001b[90m━━━━━━━━━━━━━━━━━━━━━━━━━━━━━━━━━━━━━━━━\u001b[0m \u001b[32m314.4/314.4 kB\u001b[0m \u001b[31m30.2 MB/s\u001b[0m eta \u001b[36m0:00:00\u001b[0m\n",
            "\u001b[?25hCollecting httpx>=0.24.1 (from gradio)\n",
            "  Downloading httpx-0.27.0-py3-none-any.whl (75 kB)\n",
            "\u001b[2K     \u001b[90m━━━━━━━━━━━━━━━━━━━━━━━━━━━━━━━━━━━━━━━━\u001b[0m \u001b[32m75.6/75.6 kB\u001b[0m \u001b[31m8.9 MB/s\u001b[0m eta \u001b[36m0:00:00\u001b[0m\n",
            "\u001b[?25hRequirement already satisfied: huggingface-hub>=0.19.3 in /usr/local/lib/python3.10/dist-packages (from gradio) (0.20.3)\n",
            "Requirement already satisfied: importlib-resources<7.0,>=1.3 in /usr/local/lib/python3.10/dist-packages (from gradio) (6.4.0)\n",
            "Requirement already satisfied: jinja2<4.0 in /usr/local/lib/python3.10/dist-packages (from gradio) (3.1.3)\n",
            "Requirement already satisfied: markupsafe~=2.0 in /usr/local/lib/python3.10/dist-packages (from gradio) (2.1.5)\n",
            "Requirement already satisfied: matplotlib~=3.0 in /usr/local/lib/python3.10/dist-packages (from gradio) (3.7.1)\n",
            "Requirement already satisfied: numpy~=1.0 in /usr/local/lib/python3.10/dist-packages (from gradio) (1.25.2)\n",
            "Collecting orjson~=3.0 (from gradio)\n",
            "  Downloading orjson-3.10.1-cp310-cp310-manylinux_2_17_x86_64.manylinux2014_x86_64.whl (141 kB)\n",
            "\u001b[2K     \u001b[90m━━━━━━━━━━━━━━━━━━━━━━━━━━━━━━━━━━━━━━━━\u001b[0m \u001b[32m141.1/141.1 kB\u001b[0m \u001b[31m15.4 MB/s\u001b[0m eta \u001b[36m0:00:00\u001b[0m\n",
            "\u001b[?25hRequirement already satisfied: packaging in /usr/local/lib/python3.10/dist-packages (from gradio) (24.0)\n",
            "Requirement already satisfied: pandas<3.0,>=1.0 in /usr/local/lib/python3.10/dist-packages (from gradio) (2.0.3)\n",
            "Requirement already satisfied: pillow<11.0,>=8.0 in /usr/local/lib/python3.10/dist-packages (from gradio) (9.4.0)\n",
            "Requirement already satisfied: pydantic>=2.0 in /usr/local/lib/python3.10/dist-packages (from gradio) (2.7.1)\n",
            "Collecting pydub (from gradio)\n",
            "  Downloading pydub-0.25.1-py2.py3-none-any.whl (32 kB)\n",
            "Collecting python-multipart>=0.0.9 (from gradio)\n",
            "  Downloading python_multipart-0.0.9-py3-none-any.whl (22 kB)\n",
            "Requirement already satisfied: pyyaml<7.0,>=5.0 in /usr/local/lib/python3.10/dist-packages (from gradio) (6.0.1)\n",
            "Collecting ruff>=0.2.2 (from gradio)\n",
            "  Downloading ruff-0.4.2-py3-none-manylinux_2_17_x86_64.manylinux2014_x86_64.whl (8.8 MB)\n",
            "\u001b[2K     \u001b[90m━━━━━━━━━━━━━━━━━━━━━━━━━━━━━━━━━━━━━━━━\u001b[0m \u001b[32m8.8/8.8 MB\u001b[0m \u001b[31m54.2 MB/s\u001b[0m eta \u001b[36m0:00:00\u001b[0m\n",
            "\u001b[?25hCollecting semantic-version~=2.0 (from gradio)\n",
            "  Downloading semantic_version-2.10.0-py2.py3-none-any.whl (15 kB)\n",
            "Collecting tomlkit==0.12.0 (from gradio)\n",
            "  Downloading tomlkit-0.12.0-py3-none-any.whl (37 kB)\n",
            "Collecting typer<1.0,>=0.12 (from gradio)\n",
            "  Downloading typer-0.12.3-py3-none-any.whl (47 kB)\n",
            "\u001b[2K     \u001b[90m━━━━━━━━━━━━━━━━━━━━━━━━━━━━━━━━━━━━━━━━\u001b[0m \u001b[32m47.2/47.2 kB\u001b[0m \u001b[31m5.3 MB/s\u001b[0m eta \u001b[36m0:00:00\u001b[0m\n",
            "\u001b[?25hRequirement already satisfied: typing-extensions~=4.0 in /usr/local/lib/python3.10/dist-packages (from gradio) (4.11.0)\n",
            "Requirement already satisfied: urllib3~=2.0 in /usr/local/lib/python3.10/dist-packages (from gradio) (2.0.7)\n",
            "Collecting uvicorn>=0.14.0 (from gradio)\n",
            "  Downloading uvicorn-0.29.0-py3-none-any.whl (60 kB)\n",
            "\u001b[2K     \u001b[90m━━━━━━━━━━━━━━━━━━━━━━━━━━━━━━━━━━━━━━━━\u001b[0m \u001b[32m60.8/60.8 kB\u001b[0m \u001b[31m6.8 MB/s\u001b[0m eta \u001b[36m0:00:00\u001b[0m\n",
            "\u001b[?25hRequirement already satisfied: fsspec in /usr/local/lib/python3.10/dist-packages (from gradio-client==0.16.0->gradio) (2023.6.0)\n",
            "Collecting websockets<12.0,>=10.0 (from gradio-client==0.16.0->gradio)\n",
            "  Downloading websockets-11.0.3-cp310-cp310-manylinux_2_5_x86_64.manylinux1_x86_64.manylinux_2_17_x86_64.manylinux2014_x86_64.whl (129 kB)\n",
            "\u001b[2K     \u001b[90m━━━━━━━━━━━━━━━━━━━━━━━━━━━━━━━━━━━━━━━━\u001b[0m \u001b[32m129.9/129.9 kB\u001b[0m \u001b[31m13.0 MB/s\u001b[0m eta \u001b[36m0:00:00\u001b[0m\n",
            "\u001b[?25hRequirement already satisfied: requests<3,>=2.27 in /usr/local/lib/python3.10/dist-packages (from gtts) (2.31.0)\n",
            "Requirement already satisfied: click<8.2,>=7.1 in /usr/local/lib/python3.10/dist-packages (from gtts) (8.1.7)\n",
            "Requirement already satisfied: entrypoints in /usr/local/lib/python3.10/dist-packages (from altair<6.0,>=4.2.0->gradio) (0.4)\n",
            "Requirement already satisfied: jsonschema>=3.0 in /usr/local/lib/python3.10/dist-packages (from altair<6.0,>=4.2.0->gradio) (4.19.2)\n",
            "Requirement already satisfied: toolz in /usr/local/lib/python3.10/dist-packages (from altair<6.0,>=4.2.0->gradio) (0.12.1)\n",
            "Requirement already satisfied: anyio in /usr/local/lib/python3.10/dist-packages (from httpx>=0.24.1->gradio) (3.7.1)\n",
            "Requirement already satisfied: certifi in /usr/local/lib/python3.10/dist-packages (from httpx>=0.24.1->gradio) (2024.2.2)\n",
            "Collecting httpcore==1.* (from httpx>=0.24.1->gradio)\n",
            "  Downloading httpcore-1.0.5-py3-none-any.whl (77 kB)\n",
            "\u001b[2K     \u001b[90m━━━━━━━━━━━━━━━━━━━━━━━━━━━━━━━━━━━━━━━━\u001b[0m \u001b[32m77.9/77.9 kB\u001b[0m \u001b[31m8.7 MB/s\u001b[0m eta \u001b[36m0:00:00\u001b[0m\n",
            "\u001b[?25hRequirement already satisfied: idna in /usr/local/lib/python3.10/dist-packages (from httpx>=0.24.1->gradio) (3.7)\n",
            "Requirement already satisfied: sniffio in /usr/local/lib/python3.10/dist-packages (from httpx>=0.24.1->gradio) (1.3.1)\n",
            "Collecting h11<0.15,>=0.13 (from httpcore==1.*->httpx>=0.24.1->gradio)\n",
            "  Downloading h11-0.14.0-py3-none-any.whl (58 kB)\n",
            "\u001b[2K     \u001b[90m━━━━━━━━━━━━━━━━━━━━━━━━━━━━━━━━━━━━━━━━\u001b[0m \u001b[32m58.3/58.3 kB\u001b[0m \u001b[31m6.2 MB/s\u001b[0m eta \u001b[36m0:00:00\u001b[0m\n",
            "\u001b[?25hRequirement already satisfied: filelock in /usr/local/lib/python3.10/dist-packages (from huggingface-hub>=0.19.3->gradio) (3.13.4)\n",
            "Requirement already satisfied: tqdm>=4.42.1 in /usr/local/lib/python3.10/dist-packages (from huggingface-hub>=0.19.3->gradio) (4.66.2)\n",
            "Requirement already satisfied: contourpy>=1.0.1 in /usr/local/lib/python3.10/dist-packages (from matplotlib~=3.0->gradio) (1.2.1)\n",
            "Requirement already satisfied: cycler>=0.10 in /usr/local/lib/python3.10/dist-packages (from matplotlib~=3.0->gradio) (0.12.1)\n",
            "Requirement already satisfied: fonttools>=4.22.0 in /usr/local/lib/python3.10/dist-packages (from matplotlib~=3.0->gradio) (4.51.0)\n",
            "Requirement already satisfied: kiwisolver>=1.0.1 in /usr/local/lib/python3.10/dist-packages (from matplotlib~=3.0->gradio) (1.4.5)\n",
            "Requirement already satisfied: pyparsing>=2.3.1 in /usr/local/lib/python3.10/dist-packages (from matplotlib~=3.0->gradio) (3.1.2)\n",
            "Requirement already satisfied: python-dateutil>=2.7 in /usr/local/lib/python3.10/dist-packages (from matplotlib~=3.0->gradio) (2.8.2)\n",
            "Requirement already satisfied: pytz>=2020.1 in /usr/local/lib/python3.10/dist-packages (from pandas<3.0,>=1.0->gradio) (2023.4)\n",
            "Requirement already satisfied: tzdata>=2022.1 in /usr/local/lib/python3.10/dist-packages (from pandas<3.0,>=1.0->gradio) (2024.1)\n",
            "Requirement already satisfied: annotated-types>=0.4.0 in /usr/local/lib/python3.10/dist-packages (from pydantic>=2.0->gradio) (0.6.0)\n",
            "Requirement already satisfied: pydantic-core==2.18.2 in /usr/local/lib/python3.10/dist-packages (from pydantic>=2.0->gradio) (2.18.2)\n",
            "Requirement already satisfied: charset-normalizer<4,>=2 in /usr/local/lib/python3.10/dist-packages (from requests<3,>=2.27->gtts) (3.3.2)\n",
            "Collecting shellingham>=1.3.0 (from typer<1.0,>=0.12->gradio)\n",
            "  Downloading shellingham-1.5.4-py2.py3-none-any.whl (9.8 kB)\n",
            "Requirement already satisfied: rich>=10.11.0 in /usr/local/lib/python3.10/dist-packages (from typer<1.0,>=0.12->gradio) (13.7.1)\n",
            "Collecting starlette<0.38.0,>=0.37.2 (from fastapi->gradio)\n",
            "  Downloading starlette-0.37.2-py3-none-any.whl (71 kB)\n",
            "\u001b[2K     \u001b[90m━━━━━━━━━━━━━━━━━━━━━━━━━━━━━━━━━━━━━━━━\u001b[0m \u001b[32m71.9/71.9 kB\u001b[0m \u001b[31m8.6 MB/s\u001b[0m eta \u001b[36m0:00:00\u001b[0m\n",
            "\u001b[?25hRequirement already satisfied: attrs>=22.2.0 in /usr/local/lib/python3.10/dist-packages (from jsonschema>=3.0->altair<6.0,>=4.2.0->gradio) (23.2.0)\n",
            "Requirement already satisfied: jsonschema-specifications>=2023.03.6 in /usr/local/lib/python3.10/dist-packages (from jsonschema>=3.0->altair<6.0,>=4.2.0->gradio) (2023.12.1)\n",
            "Requirement already satisfied: referencing>=0.28.4 in /usr/local/lib/python3.10/dist-packages (from jsonschema>=3.0->altair<6.0,>=4.2.0->gradio) (0.35.0)\n",
            "Requirement already satisfied: rpds-py>=0.7.1 in /usr/local/lib/python3.10/dist-packages (from jsonschema>=3.0->altair<6.0,>=4.2.0->gradio) (0.18.0)\n",
            "Requirement already satisfied: six>=1.5 in /usr/local/lib/python3.10/dist-packages (from python-dateutil>=2.7->matplotlib~=3.0->gradio) (1.16.0)\n",
            "Requirement already satisfied: markdown-it-py>=2.2.0 in /usr/local/lib/python3.10/dist-packages (from rich>=10.11.0->typer<1.0,>=0.12->gradio) (3.0.0)\n",
            "Requirement already satisfied: pygments<3.0.0,>=2.13.0 in /usr/local/lib/python3.10/dist-packages (from rich>=10.11.0->typer<1.0,>=0.12->gradio) (2.16.1)\n",
            "Requirement already satisfied: exceptiongroup in /usr/local/lib/python3.10/dist-packages (from anyio->httpx>=0.24.1->gradio) (1.2.1)\n",
            "Requirement already satisfied: mdurl~=0.1 in /usr/local/lib/python3.10/dist-packages (from markdown-it-py>=2.2.0->rich>=10.11.0->typer<1.0,>=0.12->gradio) (0.1.2)\n",
            "Building wheels for collected packages: ffmpy\n",
            "  Building wheel for ffmpy (setup.py) ... \u001b[?25l\u001b[?25hdone\n",
            "  Created wheel for ffmpy: filename=ffmpy-0.3.2-py3-none-any.whl size=5584 sha256=64bc0ae931a0a0ad914fc8da2151ca658c54c18bcc941acccc60cf7f061ce48d\n",
            "  Stored in directory: /root/.cache/pip/wheels/bd/65/9a/671fc6dcde07d4418df0c592f8df512b26d7a0029c2a23dd81\n",
            "Successfully built ffmpy\n",
            "Installing collected packages: pydub, ffmpy, websockets, tomlkit, shellingham, semantic-version, ruff, python-multipart, orjson, h11, aiofiles, uvicorn, starlette, httpcore, typer, httpx, fastapi, gradio-client, gradio\n",
            "  Attempting uninstall: typer\n",
            "    Found existing installation: typer 0.9.4\n",
            "    Uninstalling typer-0.9.4:\n",
            "      Successfully uninstalled typer-0.9.4\n",
            "\u001b[31mERROR: pip's dependency resolver does not currently take into account all the packages that are installed. This behaviour is the source of the following dependency conflicts.\n",
            "spacy 3.7.4 requires typer<0.10.0,>=0.3.0, but you have typer 0.12.3 which is incompatible.\n",
            "weasel 0.3.4 requires typer<0.10.0,>=0.3.0, but you have typer 0.12.3 which is incompatible.\u001b[0m\u001b[31m\n",
            "\u001b[0mSuccessfully installed aiofiles-23.2.1 fastapi-0.110.3 ffmpy-0.3.2 gradio-4.28.3 gradio-client-0.16.0 h11-0.14.0 httpcore-1.0.5 httpx-0.27.0 orjson-3.10.1 pydub-0.25.1 python-multipart-0.0.9 ruff-0.4.2 semantic-version-2.10.0 shellingham-1.5.4 starlette-0.37.2 tomlkit-0.12.0 typer-0.12.3 uvicorn-0.29.0 websockets-11.0.3\n"
          ]
        }
      ]
    },
    {
      "cell_type": "code",
      "source": [
        "import gradio as gr\n",
        "from gtts import gTTS\n",
        "import os\n",
        "\n",
        "def text_to_speech(text, language):\n",
        "    lang_code = 'en' if language == \"English\" else 'ko'\n",
        "    tts = gTTS(text=text, lang=lang_code, slow=False)\n",
        "    tts.save(\"output.mp3\")\n",
        "    return \"output.mp3\"\n",
        "\n",
        "interface = gr.Interface(\n",
        "    fn=text_to_speech,\n",
        "    inputs=[\n",
        "        gr.Textbox(lines=3, label=\"Enter text\"),\n",
        "        gr.Radio(choices=[\"English\", \"Korean\"], label=\"Select language\")\n",
        "    ],\n",
        "    outputs=gr.Audio(type=\"filepath\", label=\"Audio\"),\n",
        "    title=\"Text-to-Speech\",\n",
        "    description=\"Type in some text, select a language, and generate audio.\",\n",
        ")\n",
        "\n",
        "interface.launch()"
      ],
      "metadata": {
        "colab": {
          "base_uri": "https://localhost:8080/",
          "height": 651
        },
        "id": "xNgat-MMB9gT",
        "outputId": "c33c631d-ed3c-4ebb-e447-712f9db4fcc5"
      },
      "execution_count": 8,
      "outputs": [
        {
          "output_type": "stream",
          "name": "stdout",
          "text": [
            "Setting queue=True in a Colab notebook requires sharing enabled. Setting `share=True` (you can turn this off by setting `share=False` in `launch()` explicitly).\n",
            "\n",
            "Colab notebook detected. To show errors in colab notebook, set debug=True in launch()\n",
            "Running on public URL: https://74e62405ca5f0ae598.gradio.live\n",
            "\n",
            "This share link expires in 72 hours. For free permanent hosting and GPU upgrades, run `gradio deploy` from Terminal to deploy to Spaces (https://huggingface.co/spaces)\n"
          ]
        },
        {
          "output_type": "display_data",
          "data": {
            "text/plain": [
              "<IPython.core.display.HTML object>"
            ],
            "text/html": [
              "<div><iframe src=\"https://74e62405ca5f0ae598.gradio.live\" width=\"100%\" height=\"500\" allow=\"autoplay; camera; microphone; clipboard-read; clipboard-write;\" frameborder=\"0\" allowfullscreen></iframe></div>"
            ]
          },
          "metadata": {}
        },
        {
          "output_type": "execute_result",
          "data": {
            "text/plain": []
          },
          "metadata": {},
          "execution_count": 8
        }
      ]
    },
    {
      "cell_type": "markdown",
      "source": [
        "---\n",
        "The end (😍 I hope you practice the rest of the code in the exam when you have time :-)\n",
        "\n",
        "3:30AM, 0501"
      ],
      "metadata": {
        "id": "wGWV-EBVRKmu"
      }
    }
  ]
}